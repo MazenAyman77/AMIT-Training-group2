{
 "cells": [
  {
   "cell_type": "markdown",
   "metadata": {},
   "source": [
    "# Assignment 3"
   ]
  },
  {
   "cell_type": "markdown",
   "metadata": {},
   "source": [
    "### Write a function to count the number 4 in a given list."
   ]
  },
  {
   "cell_type": "code",
   "execution_count": 25,
   "metadata": {},
   "outputs": [
    {
     "name": "stdout",
     "output_type": "stream",
     "text": [
      "3\n"
     ]
    }
   ],
   "source": [
    "def counter(l):\n",
    "    \n",
    "    cont=0\n",
    "    \n",
    "    for i in range(0,len(l)):\n",
    "        \n",
    "        if l[i]==4:\n",
    "            \n",
    "            cont+=1\n",
    "            \n",
    "    print(cont)\n",
    "        \n",
    "x=[2,4,5,6,7,4,4,5,76]\n",
    "\n",
    "z=counter(x)"
   ]
  },
  {
   "cell_type": "markdown",
   "metadata": {},
   "source": [
    "### write a  function to check whether a number is divisible by another number."
   ]
  },
  {
   "cell_type": "code",
   "execution_count": 26,
   "metadata": {},
   "outputs": [
    {
     "name": "stdout",
     "output_type": "stream",
     "text": [
      "please entre first number8\n",
      "please entre second number4\n",
      "the first number is divisible by the second\n"
     ]
    }
   ],
   "source": [
    "x=int(input('please entre first number'))\n",
    "\n",
    "y=int(input('please entre second number'))\n",
    "\n",
    "def checker(a,b):\n",
    "    \n",
    "    if a%b==0:\n",
    "        \n",
    "        print('the first number is divisible by the second')\n",
    "        \n",
    "        \n",
    "checker(x,y)    "
   ]
  },
  {
   "cell_type": "markdown",
   "metadata": {},
   "source": [
    "### write a function to find the maximum and minimum numbers from a sequence of numbers."
   ]
  },
  {
   "cell_type": "code",
   "execution_count": 90,
   "metadata": {},
   "outputs": [
    {
     "name": "stdout",
     "output_type": "stream",
     "text": [
      "the maximum of numbers is:  87 \n",
      "the minimum of numbers is:  2\n"
     ]
    }
   ],
   "source": [
    "def checker(x):\n",
    "    \n",
    "    maxi=0\n",
    "    \n",
    "    mini=0\n",
    "    \n",
    "    for i in range(0,len(x)):\n",
    "        \n",
    "        if x[i]>maxi:\n",
    "            \n",
    "            maxi=x[i]\n",
    "            \n",
    "    for i in range(0,len(x)):\n",
    "        \n",
    "        mini=min(x)\n",
    "            \n",
    "    print('the maximum of numbers is: ',maxi,'\\nthe minimum of numbers is: ',mini) \n",
    "    \n",
    "    \n",
    "l=[2,32,4,6,87,3,5]\n",
    "\n",
    "checker(l)    "
   ]
  },
  {
   "cell_type": "markdown",
   "metadata": {},
   "source": [
    "### Write a Python function that takes two lists and returns True if they have at least one common member."
   ]
  },
  {
   "cell_type": "code",
   "execution_count": 106,
   "metadata": {},
   "outputs": [
    {
     "name": "stdout",
     "output_type": "stream",
     "text": [
      "entre the length of first list: 2\n",
      "entre num in first list45\n",
      "entre num in first list12\n",
      "entre the length of second list: 3\n",
      "entre num in second list89\n",
      "entre num in second list65\n",
      "entre num in second list12\n",
      "true\n"
     ]
    }
   ],
   "source": [
    "def common():\n",
    "    \n",
    "    num1=int(input('entre the length of first list: '))\n",
    "    \n",
    "    l1=[]\n",
    "    \n",
    "    for i in range(0,num1):\n",
    "        \n",
    "        temp=int(input('entre num in first list'))\n",
    "        \n",
    "        l1.append(temp)\n",
    "        \n",
    "    num2=int(input('entre the length of second list: '))\n",
    "    \n",
    "    l2=[]\n",
    "    \n",
    "    for i in range(0,num2):\n",
    "        \n",
    "        temp=int(input('entre num in second list'))\n",
    "        \n",
    "        l2.append(temp)   \n",
    "\n",
    "    counter=0\n",
    "    \n",
    "    for i in range(0,len(l1)):\n",
    "        \n",
    "        for r in range(0,len(l2)):\n",
    "            \n",
    "            if l1[i]==l2[r]:\n",
    "                \n",
    "                counter+=1\n",
    "                \n",
    "    if counter>0:\n",
    "        \n",
    "        print('true')\n",
    "        \n",
    "    else:\n",
    "        \n",
    "        print('false')\n",
    "        \n",
    "common()        "
   ]
  },
  {
   "cell_type": "markdown",
   "metadata": {},
   "source": [
    "### Write a Python function to calculate the factorial of a number (a non-negative integer). The function accepts the number from the user"
   ]
  },
  {
   "cell_type": "code",
   "execution_count": 121,
   "metadata": {},
   "outputs": [
    {
     "name": "stdout",
     "output_type": "stream",
     "text": [
      "please entre a number4\n",
      "factorial is equal:  24\n"
     ]
    }
   ],
   "source": [
    "def fact():\n",
    "    \n",
    "    x=int(input('please entre a number'))\n",
    "    \n",
    "    if x>0:\n",
    "        \n",
    "        z=1\n",
    "        \n",
    "        if x==1:\n",
    "            \n",
    "            print('factorial is equal: ',z)\n",
    "            \n",
    "        elif x!=1:\n",
    "            \n",
    "            for i in range(1,x+1):\n",
    "                \n",
    "                z=z*i\n",
    "                \n",
    "            \n",
    "            print('factorial is equal: ',z)\n",
    "            \n",
    "    else:\n",
    "        \n",
    "        print('please entre a positive number')\n",
    "     \n",
    "fact()    "
   ]
  },
  {
   "cell_type": "markdown",
   "metadata": {},
   "source": [
    "### Write a Python function to check whether a number is in a given range.\n",
    "\n",
    "### The range is from 3 to 11\n"
   ]
  },
  {
   "cell_type": "code",
   "execution_count": 127,
   "metadata": {},
   "outputs": [
    {
     "name": "stdout",
     "output_type": "stream",
     "text": [
      "please entre a number10\n",
      "the number is within the range of 3-11\n"
     ]
    }
   ],
   "source": [
    "def checker():\n",
    "    \n",
    "    x=int(input('please entre a number'))\n",
    "    \n",
    "    if x in range(3,12):\n",
    "        \n",
    "        print('the number is within the range of 3-11')\n",
    "        \n",
    "    else:\n",
    "        \n",
    "        print('the number is not within the range of 3-11')\n",
    "        \n",
    "checker()        "
   ]
  },
  {
   "cell_type": "markdown",
   "metadata": {},
   "source": [
    "### Write a  program to create the multiplication table (from 1 to 10) of a number."
   ]
  },
  {
   "cell_type": "code",
   "execution_count": 135,
   "metadata": {},
   "outputs": [
    {
     "name": "stdout",
     "output_type": "stream",
     "text": [
      "please entre a number9\n",
      "1 * 9 = 9\n",
      "2 * 9 = 18\n",
      "3 * 9 = 27\n",
      "4 * 9 = 36\n",
      "5 * 9 = 45\n",
      "6 * 9 = 54\n",
      "7 * 9 = 63\n",
      "8 * 9 = 72\n",
      "9 * 9 = 81\n",
      "10 * 9 = 90\n"
     ]
    }
   ],
   "source": [
    "y=int(input('please entre a number'))\n",
    "\n",
    "x=1\n",
    "\n",
    "for i in range(1,11):\n",
    "    \n",
    "    x=i*y\n",
    "    \n",
    "    print(i,'*',y,'=',x)\n",
    "    "
   ]
  },
  {
   "cell_type": "markdown",
   "metadata": {},
   "source": [
    "#### LESSER OF TWO EVENS: Write a function that returns the lesser of two given numbers *if* both numbers are even, but returns the greater if one or both numbers are odd\n",
    "    lesser_of_two_evens(2,4) --> 2\n",
    "    lesser_of_two_evens(2,5) --> 5"
   ]
  },
  {
   "cell_type": "code",
   "execution_count": 142,
   "metadata": {},
   "outputs": [
    {
     "name": "stdout",
     "output_type": "stream",
     "text": [
      "please entre a number8\n",
      "please entre a number10\n"
     ]
    },
    {
     "data": {
      "text/plain": [
       "8"
      ]
     },
     "execution_count": 142,
     "metadata": {},
     "output_type": "execute_result"
    }
   ],
   "source": [
    "def lessers():\n",
    "    \n",
    "    x=int(input('please entre a number'))\n",
    "    \n",
    "    y=int(input('please entre a number'))\n",
    "    \n",
    "    if x%2==0 and y%2==0:\n",
    "        \n",
    "        if x>y:\n",
    "            \n",
    "            return y\n",
    "        \n",
    "        else:\n",
    "            \n",
    "            return x\n",
    "        \n",
    "    else:\n",
    "        \n",
    "        if x>y:\n",
    "            \n",
    "            return x\n",
    "        \n",
    "        else:\n",
    "            \n",
    "            return y\n",
    "            \n",
    "lessers()            "
   ]
  },
  {
   "cell_type": "code",
   "execution_count": null,
   "metadata": {},
   "outputs": [],
   "source": []
  }
 ],
 "metadata": {
  "kernelspec": {
   "display_name": "Python 3 (ipykernel)",
   "language": "python",
   "name": "python3"
  },
  "language_info": {
   "codemirror_mode": {
    "name": "ipython",
    "version": 3
   },
   "file_extension": ".py",
   "mimetype": "text/x-python",
   "name": "python",
   "nbconvert_exporter": "python",
   "pygments_lexer": "ipython3",
   "version": "3.9.12"
  }
 },
 "nbformat": 4,
 "nbformat_minor": 2
}
